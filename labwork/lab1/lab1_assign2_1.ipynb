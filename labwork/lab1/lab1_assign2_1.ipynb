{
 "cells": [
  {
   "cell_type": "code",
   "execution_count": 4,
   "metadata": {},
   "outputs": [
    {
     "name": "stdout",
     "output_type": "stream",
     "text": [
      "9.5\n",
      "15.86\n"
     ]
    }
   ],
   "source": [
    "#Reading two arrays\n",
    "import tensorflow as tf\n",
    "x=tf.constant([11.2,9.5,5.7,14.6,6.5])\n",
    "y=tf.constant([22.9,9.5,11,19.4,16.5])\n",
    "with tf.name_scope(\"mean_x\"):\n",
    "    meanx=tf.reduce_mean(x);\n",
    "with tf.name_scope(\"mean_y\"):   \n",
    "    meany=tf.reduce_mean(y);\n",
    "with tf.Session() as sess:\n",
    "    print(sess.run(meanx))\n",
    "with tf.Session() as sess:\n",
    "    print(sess.run(meany))\n",
    "    "
   ]
  },
  {
   "cell_type": "code",
   "execution_count": 5,
   "metadata": {
    "collapsed": true
   },
   "outputs": [],
   "source": [
    "##variance"
   ]
  },
  {
   "cell_type": "code",
   "execution_count": 6,
   "metadata": {},
   "outputs": [
    {
     "name": "stdout",
     "output_type": "stream",
     "text": [
      "[  2.88999939   0.          14.44000149  26.01000404   9.        ]\n",
      "11.6425\n",
      "1.1122\n",
      "5.29411\n",
      "5.29411\n"
     ]
    }
   ],
   "source": [
    "with tf.name_scope(\"Variance_of_x\"):  \n",
    "    sq=tf.subtract(x,meanx)\n",
    "    meanx2=tf.square(sq)\n",
    "    with tf.Session() as sess:\n",
    "        print(sess.run(meanx2))\n",
    "    varx=tf.reduce_mean(meanx2)\n",
    "with tf.name_scope(\"coVariance_of_xy\"):     \n",
    "    cov_xy=tf.reduce_sum((x-meanx)*(y-meany))\n",
    "    cov=tf.divide(cov_xy,4)\n",
    "    with tf.Session() as sess:\n",
    "        print(sess.run(cov))\n",
    "with tf.name_scope(\"calculatig_m\"):\n",
    "    m=tf.divide(cov,varx)\n",
    "    with tf.Session() as sess:\n",
    "        print(sess.run(m))\n",
    "with tf.name_scope(\"calculatig_c\"):\n",
    "    temp1=tf.multiply(m,meanx)\n",
    "    c= tf.subtract(meany,temp1)\n",
    "    with tf.Session() as sess:\n",
    "        print(sess.run(c))\n",
    "with tf.Session() as sess:\n",
    "    writer = tf.summary.FileWriter(\"/tmp/tboard/output20\",sess.graph)\n",
    "    print(sess.run(c))\n",
    "    writer.close()\n"
   ]
  },
  {
   "cell_type": "code",
   "execution_count": null,
   "metadata": {
    "collapsed": true
   },
   "outputs": [],
   "source": []
  },
  {
   "cell_type": "code",
   "execution_count": null,
   "metadata": {
    "collapsed": true
   },
   "outputs": [],
   "source": []
  },
  {
   "cell_type": "code",
   "execution_count": null,
   "metadata": {
    "collapsed": true
   },
   "outputs": [],
   "source": []
  }
 ],
 "metadata": {
  "kernelspec": {
   "display_name": "Python 3",
   "language": "python",
   "name": "python3"
  },
  "language_info": {
   "codemirror_mode": {
    "name": "ipython",
    "version": 3
   },
   "file_extension": ".py",
   "mimetype": "text/x-python",
   "name": "python",
   "nbconvert_exporter": "python",
   "pygments_lexer": "ipython3",
   "version": "3.6.2"
  }
 },
 "nbformat": 4,
 "nbformat_minor": 2
}
