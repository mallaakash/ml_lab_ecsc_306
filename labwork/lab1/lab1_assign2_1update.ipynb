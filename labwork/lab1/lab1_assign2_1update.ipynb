{
 "cells": [
  {
   "cell_type": "code",
   "execution_count": 17,
   "metadata": {},
   "outputs": [
    {
     "name": "stdout",
     "output_type": "stream",
     "text": [
      "11.25\n",
      "14.43\n"
     ]
    }
   ],
   "source": [
    "#Reading two arrays\n",
    "import tensorflow as tf\n",
    "x=tf.constant([11.2,9.5,5.7,14.6,6.5,15,11,12,13,14])\n",
    "y=tf.constant([22.9,9.5,11,19.4,16.5,11,12,13,14,15])\n",
    "with tf.name_scope(\"mean_x\"):\n",
    "    meanx=tf.reduce_mean(x);\n",
    "with tf.name_scope(\"mean_y\"):   \n",
    "    meany=tf.reduce_mean(y);\n",
    "with tf.Session() as sess:\n",
    "    print(sess.run(meanx))\n",
    "with tf.Session() as sess:\n",
    "    print(sess.run(meany))\n",
    "    "
   ]
  },
  {
   "cell_type": "code",
   "execution_count": 18,
   "metadata": {
    "collapsed": true
   },
   "outputs": [],
   "source": [
    "##variance"
   ]
  },
  {
   "cell_type": "code",
   "execution_count": 19,
   "metadata": {},
   "outputs": [
    {
     "name": "stdout",
     "output_type": "stream",
     "text": [
      "[  2.50001904e-03   3.06250000e+00   3.08025017e+01   1.12225027e+01\n",
      "   2.25625000e+01   1.40625000e+01   6.25000000e-02   5.62500000e-01\n",
      "   3.06250000e+00   7.56250000e+00]\n",
      "5.38625\n",
      "0.579385\n",
      "7.91192\n",
      "7.91192\n",
      "Rms error=  15.7021\n"
     ]
    }
   ],
   "source": [
    "with tf.name_scope(\"Variance_of_x\"):  \n",
    "    sq=tf.subtract(x,meanx)\n",
    "    meanx2=tf.square(sq)\n",
    "    with tf.Session() as sess:\n",
    "        print(sess.run(meanx2))\n",
    "    varx=tf.reduce_mean(meanx2)\n",
    "with tf.name_scope(\"coVariance_of_xy\"):     \n",
    "    cov_xy=tf.reduce_sum((x-meanx)*(y-meany))\n",
    "    cov=tf.divide(cov_xy,4)\n",
    "    with tf.Session() as sess:\n",
    "        print(sess.run(cov))\n",
    "with tf.name_scope(\"calculatig_m\"):\n",
    "    m=tf.divide(cov,varx)\n",
    "    with tf.Session() as sess:\n",
    "        print(sess.run(m))\n",
    "with tf.name_scope(\"calculatig_c\"):\n",
    "    temp1=tf.multiply(m,meanx)\n",
    "    c= tf.subtract(meany,temp1)\n",
    "    with tf.Session() as sess:\n",
    "        print(sess.run(c))\n",
    "        \n",
    "\n",
    "with tf.Session() as sess:\n",
    "    writer = tf.summary.FileWriter(\"/tmp/tboard/output20\",sess.graph)\n",
    "    print(sess.run(c))\n",
    "    writer.close()\n",
    "#the following formula is used to get the root mean square error\n",
    "#root mean square error= root((sum(square(y-mean(y))))/n_)\n",
    "with tf.Session() as sess:\n",
    "   \n",
    "        dif=tf.square(y-meany)\n",
    "        rms=(tf.reduce_sum(dif))/10\n",
    "        print (\"Rms error= \",sess.run(rms))\n"
   ]
  },
  {
   "cell_type": "code",
   "execution_count": null,
   "metadata": {
    "collapsed": true
   },
   "outputs": [],
   "source": []
  },
  {
   "cell_type": "code",
   "execution_count": null,
   "metadata": {
    "collapsed": true
   },
   "outputs": [],
   "source": []
  },
  {
   "cell_type": "code",
   "execution_count": null,
   "metadata": {
    "collapsed": true
   },
   "outputs": [],
   "source": []
  }
 ],
 "metadata": {
  "kernelspec": {
   "display_name": "Python 3",
   "language": "python",
   "name": "python3"
  },
  "language_info": {
   "codemirror_mode": {
    "name": "ipython",
    "version": 3
   },
   "file_extension": ".py",
   "mimetype": "text/x-python",
   "name": "python",
   "nbconvert_exporter": "python",
   "pygments_lexer": "ipython3",
   "version": "3.6.2"
  }
 },
 "nbformat": 4,
 "nbformat_minor": 2
}
