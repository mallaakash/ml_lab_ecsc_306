{
 "cells": [
  {
   "cell_type": "code",
   "execution_count": 1,
   "metadata": {},
   "outputs": [
    {
     "name": "stdout",
     "output_type": "stream",
     "text": [
      "Tensor(\"Mul:0\", shape=(), dtype=int32)\n",
      "81\n",
      "81\n"
     ]
    }
   ],
   "source": [
    "import tensorflow as tf\n",
    "y1=tf.constant(4)\n",
    "y2=tf.constant(2)\n",
    "y3=tf.constant(3)                                                                           \n",
    "t1=tf.add(y1,y2)\n",
    "t2=tf.add(t1,y3)\n",
    "result=tf.multiply(t2,t2)\n",
    "print(result)\n",
    "\n",
    "ses2=tf.Session()\n",
    "print(ses2.run(result))\n",
    "ses2.close()\n",
    "\n",
    "\n",
    "with tf.Session() as ses2:\n",
    "    writer=tf.summary.FileWriter(\"/tmp/tboard/output1\",ses2.graph)\n",
    "    print(ses2.run(result))\n",
    "    writer.close()\n"
   ]
  },
  {
   "cell_type": "code",
   "execution_count": null,
   "metadata": {
    "collapsed": true
   },
   "outputs": [],
   "source": []
  }
 ],
 "metadata": {
  "kernelspec": {
   "display_name": "Python 3",
   "language": "python",
   "name": "python3"
  },
  "language_info": {
   "codemirror_mode": {
    "name": "ipython",
    "version": 3
   },
   "file_extension": ".py",
   "mimetype": "text/x-python",
   "name": "python",
   "nbconvert_exporter": "python",
   "pygments_lexer": "ipython3",
   "version": "3.6.2"
  }
 },
 "nbformat": 4,
 "nbformat_minor": 2
}
