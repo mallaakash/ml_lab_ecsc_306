{
 "cells": [
  {
   "cell_type": "code",
   "execution_count": 31,
   "metadata": {},
   "outputs": [
    {
     "name": "stdout",
     "output_type": "stream",
     "text": [
      "10.468\n",
      "11.6425\n",
      "1.11219908292\n",
      "Tensor(\"Mul_4:0\", shape=(), dtype=float64)\n",
      "Tensor(\"Sub_3:0\", shape=(), dtype=float64)\n",
      "5.29410871227\n"
     ]
    }
   ],
   "source": [
    "import tensorflow as tf\n",
    "import pandas as pd\n",
    "import numpy as np\n",
    "x=np.array([11.2,9.5,5.7,14.6,6.5])\n",
    "y=np.array([22.9,9.5,11,19.4,16.5])\n",
    "meanx=np.mean(x)\n",
    "meany=np.mean(y)\n",
    "varx=np.var(x)\n",
    "print(varx)\n",
    "covxy=np.cov(x,y)[1][0]\n",
    "print(covxy)\n",
    "c=tf.divide(covxy,varx)\n",
    "print(c)\n",
    "temp=tf.multiply(c,meanx)\n",
    "print(temp)\n",
    "m=tf.subtract(meany,temp)\n",
    "print(m)\n",
    "with tf.Session() as sess:\n",
    "    writer = tf.summary.FileWriter(\"/tmp/tboard/output16\",sess.graph)\n",
    "    print(sess.run(m))\n",
    "    writer.close()"
   ]
  },
  {
   "cell_type": "code",
   "execution_count": null,
   "metadata": {
    "collapsed": true
   },
   "outputs": [],
   "source": []
  },
  {
   "cell_type": "code",
   "execution_count": null,
   "metadata": {
    "collapsed": true
   },
   "outputs": [],
   "source": []
  }
 ],
 "metadata": {
  "kernelspec": {
   "display_name": "Python 3",
   "language": "python",
   "name": "python3"
  },
  "language_info": {
   "codemirror_mode": {
    "name": "ipython",
    "version": 3
   },
   "file_extension": ".py",
   "mimetype": "text/x-python",
   "name": "python",
   "nbconvert_exporter": "python",
   "pygments_lexer": "ipython3",
   "version": "3.6.2"
  }
 },
 "nbformat": 4,
 "nbformat_minor": 2
}
